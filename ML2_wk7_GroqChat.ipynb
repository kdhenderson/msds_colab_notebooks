{
  "nbformat": 4,
  "nbformat_minor": 0,
  "metadata": {
    "colab": {
      "provenance": [],
      "include_colab_link": true
    },
    "kernelspec": {
      "name": "python3",
      "display_name": "Python 3"
    },
    "language_info": {
      "name": "python"
    }
  },
  "cells": [
    {
      "cell_type": "markdown",
      "metadata": {
        "id": "view-in-github",
        "colab_type": "text"
      },
      "source": [
        "<a href=\"https://colab.research.google.com/github/kdhenderson/msds_colab_notebooks/blob/main/ML2_wk7_GroqChat.ipynb\" target=\"_parent\"><img src=\"https://colab.research.google.com/assets/colab-badge.svg\" alt=\"Open In Colab\"/></a>"
      ]
    },
    {
      "cell_type": "code",
      "execution_count": null,
      "metadata": {
        "colab": {
          "base_uri": "https://localhost:8080/"
        },
        "id": "qcV96xiY3BxZ",
        "outputId": "35315e91-fae2-4f97-a6d7-61e21ffbcb79"
      },
      "outputs": [
        {
          "output_type": "stream",
          "name": "stdout",
          "text": [
            "Please enter your Groq API key (input will be hidden): ··········\n",
            "\n",
            "Chat started. Type 'quit' to exit.\n",
            "\n",
            "You: hi\n",
            "\n",
            "Assistant: Hi! It's nice to meet you. Is there something I can help you with or would you like to chat for a bit?\n",
            "\n",
            "You: i am john\n",
            "\n",
            "Assistant: Hi John! It's great to meet you. Is there anything on your mind that you'd like to talk about or ask? I'm here to listen and help if I can. We could chat about your day, your interests, or anything else that comes to mind. I'm all ears (or rather, all text).\n",
            "\n",
            "You: what is my name\n",
            "\n",
            "Assistant: I remember! Your name is John.\n",
            "\n"
          ]
        }
      ],
      "source": [
        "import openai\n",
        "from getpass import getpass\n",
        "import json\n",
        "from typing import List, Dict\n",
        "\n",
        "def get_api_key() -> str:\n",
        "    \"\"\"Securely get the Groq API key from user input.\"\"\"\n",
        "    return getpass(\"Please enter your Groq API key (input will be hidden): \")\n",
        "\n",
        "def setup_client(api_key: str) -> openai.Client:\n",
        "    \"\"\"Setup the OpenAI client to use Groq's API.\"\"\"\n",
        "    return openai.Client(\n",
        "        base_url=\"https://api.groq.com/openai/v1\",\n",
        "        api_key=api_key\n",
        "    )\n",
        "\n",
        "def format_messages(history: List[Dict[str, str]]) -> str:\n",
        "    \"\"\"Format chat history for display.\"\"\"\n",
        "    formatted = \"\"\n",
        "    for msg in history:\n",
        "        role = msg[\"role\"].capitalize()\n",
        "        content = msg[\"content\"]\n",
        "        formatted += f\"{role}: {content}\\n\"\n",
        "    return formatted\n",
        "\n",
        "def main():\n",
        "    # Get API key and setup client\n",
        "    api_key = get_api_key()\n",
        "    client = setup_client(api_key)\n",
        "\n",
        "    # Initialize conversation history\n",
        "    history = [\n",
        "        {\"role\": \"system\", \"content\": \"You are a helpful AI assistant.\"}\n",
        "    ]\n",
        "\n",
        "    print(\"\\nChat started. Type 'quit' to exit.\\n\")\n",
        "\n",
        "    while True:\n",
        "        # Get user input\n",
        "        user_input = input(\"You: \").strip()\n",
        "\n",
        "        if user_input.lower() == 'quit':\n",
        "            break\n",
        "\n",
        "        # Add user message to history\n",
        "        history.append({\"role\": \"user\", \"content\": user_input})\n",
        "\n",
        "        try:\n",
        "            # Get response from Groq\n",
        "            response = client.chat.completions.create(\n",
        "                model=\"llama3-70b-8192\",\n",
        "                messages=history,\n",
        "                temperature=0.7\n",
        "            )\n",
        "\n",
        "            # Extract and store assistant's response\n",
        "            assistant_response = response.choices[0].message.content\n",
        "            history.append({\"role\": \"assistant\", \"content\": assistant_response})\n",
        "\n",
        "            # Display the response\n",
        "            print(f\"\\nAssistant: {assistant_response}\\n\")\n",
        "\n",
        "        except Exception as e:\n",
        "            print(f\"\\nError: {str(e)}\\n\")\n",
        "            continue\n",
        "\n",
        "if __name__ == \"__main__\":\n",
        "    main()"
      ]
    }
  ]
}