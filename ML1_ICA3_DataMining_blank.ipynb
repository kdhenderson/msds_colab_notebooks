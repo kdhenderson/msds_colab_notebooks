{
  "cells": [
    {
      "cell_type": "markdown",
      "metadata": {
        "id": "view-in-github",
        "colab_type": "text"
      },
      "source": [
        "<a href=\"https://colab.research.google.com/github/kdhenderson/msds_colab_notebooks/blob/main/ML1_ICA3_DataMining_blank.ipynb\" target=\"_parent\"><img src=\"https://colab.research.google.com/assets/colab-badge.svg\" alt=\"Open In Colab\"/></a>"
      ]
    },
    {
      "cell_type": "markdown",
      "metadata": {
        "id": "g23UBk6o61ef"
      },
      "source": [
        "\n",
        "\n",
        "**NAME:** (enter your name here)\n",
        "\n",
        "\n",
        "\n",
        "# In Class Assignment 3\n",
        "In the following assignment you will be asked to fill in python code and derivations for a number of different problems. Please read all instructions carefully and turn in the rendered notebook within 24h.\n",
        "\n",
        "\n",
        "### Downloading the Document Data\n",
        "Please run the following code to read in the \"20 newsgroups\" dataset from sklearn's data loading module."
      ]
    },
    {
      "cell_type": "code",
      "execution_count": null,
      "metadata": {
        "colab": {
          "base_uri": "https://localhost:8080/"
        },
        "id": "HyQc9kWw61ek",
        "outputId": "593a56bd-ee72-46a4-8075-8ab5105956a4"
      },
      "outputs": [
        {
          "output_type": "stream",
          "name": "stdout",
          "text": [
            "features shape: (11314, 130107)\n",
            "target shape: (11314,)\n",
            "range of target: 0 19\n",
            "Data type is <class 'scipy.sparse._csr.csr_matrix'> 0.1214353154362896 % of the data is non-zero\n"
          ]
        }
      ],
      "source": [
        "from sklearn.datasets import fetch_20newsgroups_vectorized\n",
        "import numpy as np\n",
        "\n",
        "# this takes about 30 seconds to compute, read the next section while this downloads\n",
        "ds = fetch_20newsgroups_vectorized(subset='train')\n",
        "\n",
        "# this holds the continuous feature data (which is tfidf)\n",
        "print('features shape:', ds.data.shape) # there are ~11000 instances and ~130k features per instance\n",
        "print('target shape:', ds.target.shape)\n",
        "print('range of target:', np.min(ds.target),np.max(ds.target))\n",
        "print('Data type is', type(ds.data), float(ds.data.nnz)/(ds.data.shape[0]*ds.data.shape[1])*100, '% of the data is non-zero')"
      ]
    },
    {
      "cell_type": "markdown",
      "metadata": {
        "id": "frTApx4h61el"
      },
      "source": [
        "## Understanding the Dataset\n",
        "Look at the description for the 20 newsgroups dataset at http://qwone.com/~jason/20Newsgroups/. You have just downloaded the \"vectorized\" version of the dataset, which means all the words inside the articles have gone through a transformation that binned them into 130 thousand features related to the words in them.  \n",
        "\n",
        "**Question 1**:\n",
        "\n",
        "a) How many instances are in the dataset?\n",
        "\n",
        "b) What does each instance represent?\n",
        "\n",
        "c) How many classes are in the dataset and what does each class represent?\n",
        "\n",
        "d) Would you expect a classifier trained on this data would generalize to documents written in the past week? Why or why not?\n",
        "\n",
        "e) Is the data represented as a sparse or dense matrix?\n"
      ]
    },
    {
      "cell_type": "markdown",
      "metadata": {
        "id": "r31Gr69l61el"
      },
      "source": [
        "## Measures of Distance\n",
        "In the following block of code, we isolate three instances from the dataset. The instance \"`a`\" is from the group *computer graphics*, \"`b`\" is from from the group *recreation autos*, and \"`c`\" is from group *recreation motorcycle*.\n",
        "\n",
        "**Question 2**:\n",
        "\n",
        "For each pair of instances calculate the (1) Euclidean distance, and (2) Jaccard similarity.\n",
        "Which distance seems more appropriate to use for this data? **Explain your reasoning.**\n",
        "\n",
        "\n",
        "*Note: Remember that the Jaccard similarity is only for binary valued vectors, so convert vectors to binary using a threshold.*\n"
      ]
    },
    {
      "cell_type": "code",
      "execution_count": null,
      "metadata": {
        "colab": {
          "base_uri": "https://localhost:8080/"
        },
        "id": "DHXB68va61el",
        "outputId": "9aa73375-0ca6-4a1b-cbab-39593bfddd30"
      },
      "outputs": [
        {
          "output_type": "stream",
          "name": "stdout",
          "text": [
            "Instance A is from class comp.graphics\n",
            "Instance B is from class rec.autos\n",
            "Instance C is from class rec.motorcycles\n",
            "\n",
            "\n",
            "Euclidean Distance\n",
            " ab: Placeholder ac: Placeholder bc: Placeholder\n",
            "Jaccard Similarity (vectors should be boolean values)\n",
            " ab: Placeholder ac: Placeholder bc: Placeholder\n",
            "\n",
            "\n",
            "The most appropriate distance is...because...\n",
            "Placeholder\n"
          ]
        }
      ],
      "source": [
        "from scipy.spatial.distance import euclidean\n",
        "from scipy.spatial.distance import jaccard\n",
        "import numpy as np\n",
        "\n",
        "# get first instance (comp)\n",
        "idx = 550\n",
        "a = ds.data[idx].todense()\n",
        "a_class = ds.target_names[ds.target[idx]]\n",
        "print('Instance A is from class', a_class)\n",
        "\n",
        "# get second instance (autos)\n",
        "idx = 4000\n",
        "b = ds.data[idx].todense()\n",
        "b_class = ds.target_names[ds.target[idx]]\n",
        "print('Instance B is from class', b_class)\n",
        "\n",
        "# get third instance (motorcycle)\n",
        "idx = 7000\n",
        "c = ds.data[idx].todense()\n",
        "c_class = ds.target_names[ds.target[idx]]\n",
        "print('Instance C is from class', c_class)\n",
        "\n",
        "# Enter distance comparison below for each pair of vectors:\n",
        "p = 'Placeholder'\n",
        "print('\\n\\nEuclidean Distance\\n ab:', p, 'ac:', p, 'bc:',p)\n",
        "print('Jaccard Similarity (vectors should be boolean values)\\n ab:', p, 'ac:', p, 'bc:', p)\n",
        "\n",
        "print('\\n\\nThe most appropriate distance is...because...')\n",
        "print(p)"
      ]
    },
    {
      "cell_type": "markdown",
      "metadata": {
        "id": "9aQUOXSa61em"
      },
      "source": [
        "## Using scikit-learn with KNN\n",
        "Now let's use stratified cross validation with a holdout set to train a KNN model in `scikit-learn`. Use the example below to train a KNN classifier. The documentation for `KNeighborsClassifier` is here: http://scikit-learn.org/stable/modules/generated/sklearn.neighbors.KNeighborsClassifier.html  \n",
        "\n",
        "**Question 3**:\n",
        "Use the code below to test what value of `n_neighbors` works best for the given data.\n",
        "What is the accuracy of the best classifier you can create for this data (by changing only the `n_neighbors` parameter)?\n",
        "\n",
        " *Note: do NOT change the metric to be anything other than `'euclidean'`. Other distance functions are not optimized for the amount of data we are working with.*"
      ]
    },
    {
      "cell_type": "code",
      "execution_count": null,
      "metadata": {
        "colab": {
          "base_uri": "https://localhost:8080/"
        },
        "id": "dV95HR_x61em",
        "outputId": "e8c533dc-6860-46d8-b43f-ec4c09b296f1"
      },
      "outputs": [
        {
          "output_type": "stream",
          "name": "stdout",
          "text": [
            "Accuracy of classifier with 5 neighbors is: 0.00\n"
          ]
        }
      ],
      "source": [
        "from sklearn.model_selection import StratifiedShuffleSplit\n",
        "from sklearn.neighbors import KNeighborsClassifier\n",
        "from sklearn.metrics import accuracy_score\n",
        "\n",
        "\n",
        "cv = StratifiedShuffleSplit(n_splits=1, test_size = 0.5, train_size=0.5)\n",
        "\n",
        "# fill in the training and testing data and save as separate variables\n",
        "for trainidx, testidx in cv.split(ds.data,ds.target):\n",
        "    # note that these are sparse matrices\n",
        "    X_train = ds.data[trainidx]\n",
        "    X_test = ds.data[testidx]\n",
        "    y_train = ds.target[trainidx]\n",
        "    y_test = ds.target[testidx]\n",
        "\n",
        "# fill in your code  here to train and test\n",
        "# calculate the accuracy and print it for various values of K\n",
        "K = 5\n",
        "clf = KNeighborsClassifier(n_neighbors=K, weights='uniform', metric='euclidean')\n",
        "\n",
        "\n",
        "acc = 0 # overwrite this with the actual accuracy\n",
        "\n",
        "#=====================================\n",
        "\n",
        "print('Accuracy of classifier with %d neighbors is: %.2f'%(K,acc))\n"
      ]
    },
    {
      "cell_type": "markdown",
      "metadata": {
        "id": "54Ifg8mc61em"
      },
      "source": [
        "The best accuracy is XX with XX neighbors."
      ]
    },
    {
      "cell_type": "markdown",
      "metadata": {
        "id": "ZxQ5l16_61em"
      },
      "source": [
        "**Question 4**: With sparse data, does the use of a KDTree representation make sense? Why or Why not?"
      ]
    },
    {
      "cell_type": "markdown",
      "metadata": {
        "id": "RuHcOb0K61en"
      },
      "source": [
        "Enter your answer below:\n",
        "\n",
        "*Double Click to edit*\n"
      ]
    },
    {
      "cell_type": "markdown",
      "metadata": {
        "collapsed": true,
        "id": "rKSMv0wO61en"
      },
      "source": [
        "_____\n",
        "## KNN extensions - Centroids\n",
        "Now lets look at a very closely related classifier to KNN, called nearest centroid. In this classifier (which is more appropriate for big data scenarios and sparse data), the training step is used to calculate the centroids for each class. These centroids are saved. Unknown attributes, at prediction time, only need to have distances calculated for each saved centroid, drastically decreasing the time required for a prediction.\n",
        "\n",
        "**Question 5**: Use the template code below to create a nearest centroid classifier. Test which metric has the best cross validated performance: Euclidean or Manhattan. In `scikit-learn` you can see the documentation for NearestCentroid here:\n",
        "- http://scikit-learn.org/stable/modules/generated/sklearn.neighbors.NearestCentroid.html#sklearn.neighbors.NearestCentroid\n",
        "\n",
        "and for supported distance metrics here:\n",
        "- http://scikit-learn.org/stable/modules/generated/sklearn.metrics.pairwise.distance_metrics.html#sklearn.metrics.pairwise.distance_metrics"
      ]
    },
    {
      "cell_type": "code",
      "execution_count": null,
      "metadata": {
        "colab": {
          "base_uri": "https://localhost:8080/"
        },
        "id": "MFNAgYqT61en",
        "outputId": "53b02e44-0a2f-476e-f008-23781059227c"
      },
      "outputs": [
        {
          "output_type": "stream",
          "name": "stdout",
          "text": [
            "The best distance metric is:  Placeholder\n"
          ]
        }
      ],
      "source": [
        "from sklearn.neighbors import NearestCentroid\n",
        "\n",
        "# the parameters for the nearest centroid metric to test are:\n",
        "#    l1, l2, and cosine (all are optimized)\n",
        "clf = NearestCentroid(metric='euclidean')\n",
        "\n",
        "# fill in your code here\n",
        "\n",
        "print('The best distance metric is: ', p)"
      ]
    },
    {
      "cell_type": "markdown",
      "metadata": {
        "id": "7ndnoUC561en"
      },
      "source": [
        "\n",
        "## Naive Bayes Classification\n",
        "Now let's look at the use of the Naive Bayes classifier. The 20 newsgroups dataset has 20 classes and about 130,000 features per instance. Recall that the Naive Bayes classifer calculates a posterior distribution for each possible class. Each posterior distribution is a multiplication of many conditional distributions:\n",
        "\n",
        "$${\\arg \\max}_{j} \\left(p(class=j)\\prod_{i} p(attribute=i|class=j) \\right)$$\n",
        "\n",
        "where $p(class=j)$ is the prior and $p(attribute=i|class=j)$ is the conditional probability.\n",
        "\n",
        "**Question 6**:\n",
        "\n",
        "With this many classes and features, how many different conditional probabilities need to be parameterized? How many priors need to be parameterized?"
      ]
    },
    {
      "cell_type": "markdown",
      "metadata": {
        "id": "P3ElqgGx61eo"
      },
      "source": [
        "Enter you answer here:\n",
        "\n",
        "*Double Click to edit*\n"
      ]
    },
    {
      "cell_type": "code",
      "execution_count": null,
      "metadata": {
        "id": "sLwCn9kB61eo"
      },
      "outputs": [],
      "source": [
        "# Use this space for any calculations you might want to do\n"
      ]
    },
    {
      "cell_type": "markdown",
      "metadata": {
        "id": "AE06MSxK61eo"
      },
      "source": [
        "___\n",
        "## Naive Bayes in Scikit-learn\n",
        "Scikit has several implementations of the Naive Bayes classifier: `GaussianNB`, `MultinomialNB`, and `BernoulliNB`. Look at the documentation here: http://scikit-learn.org/stable/modules/naive_bayes.html Take a look at each implementation and then answer this question:\n",
        "\n",
        "**Question 7**:\n",
        "\n",
        "a) If the instances contain mostly continuous attributes, would it be better to use Gaussian Naive Bayes, Multinomial Naive Bayes, or Bernoulli? And Why?\n",
        "\n",
        "b) What if the data is sparse, does this change your answer? Why or Why not?"
      ]
    },
    {
      "cell_type": "markdown",
      "metadata": {
        "id": "HPMo_-uX61eo"
      },
      "source": [
        "## Naive Bayes Comparison\n",
        "For the final section of this notebook let's compare the performance of Naive Bayes for document classification. Look at the parameters for `MultinomialNB`, and `BernoulliNB` (especially `alpha` and `binarize`).\n",
        "\n",
        "**Question 8 (Extra credit)**:\n",
        "\n",
        "a) Using the example code below, change the parameters for each classifier and see how accurate you can make the classifiers on the test set.\n",
        "\n",
        "b) Why are these implementations so fast to train? What does the `'alpha'` value control in these models (*i.e.*, how does it change the parameterizations)?"
      ]
    },
    {
      "cell_type": "code",
      "execution_count": null,
      "metadata": {
        "colab": {
          "base_uri": "https://localhost:8080/"
        },
        "id": "JlIJnNkA61eo",
        "outputId": "19582297-4028-4404-acce-df39a702d172"
      },
      "outputs": [
        {
          "output_type": "stream",
          "name": "stdout",
          "text": [
            "These classifiers are so fast because... Placeholder\n",
            "The alpha values control... Placeholder\n"
          ]
        }
      ],
      "source": [
        "from sklearn.naive_bayes import MultinomialNB\n",
        "from sklearn.naive_bayes import BernoulliNB\n",
        "\n",
        "\n",
        "clf_mnb = MultinomialNB(alpha=1.0)\n",
        "clf_bnb = BernoulliNB(alpha=1.0, binarize=0.0)\n",
        "\n",
        "# fill in your code here\n",
        "\n",
        "\n",
        "print('These classifiers are so fast because...', p)\n",
        "print('The alpha values control...', p)\n"
      ]
    },
    {
      "cell_type": "markdown",
      "metadata": {
        "collapsed": true,
        "id": "EWnj8mo361ep"
      },
      "source": [
        "\n",
        "That's all! Please **upload your rendered notebook** and please include **your  name** in the notebook submission."
      ]
    }
  ],
  "metadata": {
    "kernelspec": {
      "display_name": "Python 3",
      "language": "python",
      "name": "python3"
    },
    "language_info": {
      "codemirror_mode": {
        "name": "ipython",
        "version": 3
      },
      "file_extension": ".py",
      "mimetype": "text/x-python",
      "name": "python",
      "nbconvert_exporter": "python",
      "pygments_lexer": "ipython3",
      "version": "3.7.1"
    },
    "colab": {
      "provenance": [],
      "include_colab_link": true
    }
  },
  "nbformat": 4,
  "nbformat_minor": 0
}