{
  "nbformat": 4,
  "nbformat_minor": 0,
  "metadata": {
    "colab": {
      "provenance": [],
      "include_colab_link": true
    },
    "kernelspec": {
      "name": "python3",
      "display_name": "Python 3"
    },
    "language_info": {
      "name": "python"
    }
  },
  "cells": [
    {
      "cell_type": "markdown",
      "metadata": {
        "id": "view-in-github",
        "colab_type": "text"
      },
      "source": [
        "<a href=\"https://colab.research.google.com/github/kdhenderson/msds_colab_notebooks/blob/main/ML2_previousSemester_Homework_2.ipynb\" target=\"_parent\"><img src=\"https://colab.research.google.com/assets/colab-badge.svg\" alt=\"Open In Colab\"/></a>"
      ]
    },
    {
      "cell_type": "code",
      "execution_count": null,
      "metadata": {
        "id": "8uYhs2ocpTjn"
      },
      "outputs": [],
      "source": [
        "\n",
        "# The goal of this homework is to create a grid search first using just SKLearn and then later use the Optuna framework.\n",
        "\n",
        "\n",
        "# Adapt this code below to run your analysis.\n",
        "# Each part should require a single week\n",
        "\n",
        "# Part 1\n",
        "# 1. Write a function to take a list or dictionary of clfs and hypers ie use logistic regression,\n",
        "# each with 3 different sets of hyper parrameters for each\n",
        "#\n",
        "\n",
        "# Part 2\n",
        "# 2. expand to include larger number of classifiers and hyperparmater settings\n",
        "# 3. find some simple data to work with\n",
        "# 4. generate matplotlib plots that will assist in identifying the optimal clf and parampters settings\n",
        "\n",
        "# Part 3\n",
        "# 5. Please set up your code to be run and save the results to the directory that its executed from\n",
        "# 6. Investigate grid search function in sklearn\n",
        "\n",
        "# Extra credit.\n",
        "# Use Optuna to optimize a NN on a data set.\n",
        "\n",
        "\n",
        "\n",
        "\n",
        "import numpy as np\n",
        "from sklearn.metrics import accuracy_score # Please select some other metircs in addtion to this.\n",
        "from sklearn.ensemble import RandomForestClassifier\n",
        "from sklearn.model_selection import KFold\n",
        "\n",
        "\n",
        "#Example data\n",
        "M = np.array([[1,2],[3,4],[4,5],[4,5],[4,5],[4,5],[4,5],[4,5]])\n",
        "L = np.ones(M.shape[0])\n",
        "n_folds = 5\n",
        "\n",
        "data = (M, L, n_folds)\n",
        "\n",
        "all_parmas = {'rf':{'clf':RandomForestClassifier,\n",
        "                    'hypers': {\n",
        "                              'n_estimator':[10,20,30,40]}}\n",
        "\n",
        "} #whats the outer most key\n",
        "\n",
        "def run(a_clf, data, clf_hyper={}):\n",
        "  M, L, n_folds = data # unpack data containter\n",
        "  kf = KFold(n_splits=n_folds) # Establish the cross validation\n",
        "  ret = {} # classic explicaiton of results\n",
        "  for ids, (train_index, test_index) in enumerate(kf.split(M, L)):\n",
        "    clf = a_clf(**clf_hyper) # unpack paramters into clf is they exist\n",
        "    clf.fit(M[train_index], L[train_index])\n",
        "    pred = clf.predict(M[test_index])\n",
        "    ret[ids]= {'clf': clf,\n",
        "               'train_index': train_index,\n",
        "               'test_index': test_index,\n",
        "               'accuracy': accuracy_score(L[test_index], pred)}\n",
        "  return ret\n",
        "\n",
        "results = run(RandomForestClassifier, data, clf_hyper={})\n"
      ]
    },
    {
      "cell_type": "code",
      "source": [
        "print(results)\n"
      ],
      "metadata": {
        "colab": {
          "base_uri": "https://localhost:8080/"
        },
        "id": "0KLF00JQp3Wk",
        "outputId": "37a1f61d-6384-4918-b117-992808e8e9d1"
      },
      "execution_count": null,
      "outputs": [
        {
          "output_type": "stream",
          "name": "stdout",
          "text": [
            "{0: {'clf': RandomForestClassifier(), 'train_index': array([2, 3, 4, 5, 6, 7]), 'test_index': array([0, 1]), 'accuracy': 1.0}, 1: {'clf': RandomForestClassifier(), 'train_index': array([0, 1, 4, 5, 6, 7]), 'test_index': array([2, 3]), 'accuracy': 1.0}, 2: {'clf': RandomForestClassifier(), 'train_index': array([0, 1, 2, 3, 6, 7]), 'test_index': array([4, 5]), 'accuracy': 1.0}, 3: {'clf': RandomForestClassifier(), 'train_index': array([0, 1, 2, 3, 4, 5, 7]), 'test_index': array([6]), 'accuracy': 1.0}, 4: {'clf': RandomForestClassifier(), 'train_index': array([0, 1, 2, 3, 4, 5, 6]), 'test_index': array([7]), 'accuracy': 1.0}}\n"
          ]
        }
      ]
    },
    {
      "cell_type": "code",
      "source": [
        "from sklearn.ensemble import RandomForestClassifier\n",
        "all_parmas = {'rf':{'clf':RandomForestClassifier,'hypers': {'n_estimator':[10,20,30], 'max_depth':[10,20]}}}\n",
        "\n",
        "for key1 in all_parmas.keys():\n",
        "  clf = all_parmas[key1]['clf']\n",
        "  hypers = all_parmas[key1]['hypers']\n",
        "  for n_est in hypers['n_estimator']:\n",
        "     print({'n_estimator':n_est} )\n"
      ],
      "metadata": {
        "colab": {
          "base_uri": "https://localhost:8080/"
        },
        "id": "9j_t7G-ROb0N",
        "outputId": "e2cc7802-1ee2-4157-ec04-aecfe2d641eb"
      },
      "execution_count": null,
      "outputs": [
        {
          "output_type": "stream",
          "name": "stdout",
          "text": [
            "{'n_estimator': 10}\n",
            "{'n_estimator': 20}\n",
            "{'n_estimator': 30}\n"
          ]
        }
      ]
    },
    {
      "cell_type": "code",
      "source": [],
      "metadata": {
        "id": "dBntXZydOfzV"
      },
      "execution_count": null,
      "outputs": []
    }
  ]
}